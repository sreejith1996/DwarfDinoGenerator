{
 "cells": [
  {
   "cell_type": "code",
   "execution_count": 11,
   "metadata": {},
   "outputs": [],
   "source": [
    "import pandas as pd\n",
    "import numpy as np \n",
    "import string"
   ]
  },
  {
   "cell_type": "code",
   "execution_count": 8,
   "metadata": {},
   "outputs": [
    {
     "name": "stdout",
     "output_type": "stream",
     "text": [
      "['May', 'Adaldrida', 'Celendine', 'Gloriana', 'Pimpernel', 'Tanta', 'Alfrida', 'Cora', 'Goldilocks', 'Melba', 'Poppy', 'Yolanda', 'Amalda', 'Cornelia', 'Grimalda', 'Melilot', 'Prima', 'Amaranth', 'Chica', 'Hilda', 'Melissa', 'Primrose', 'Amethyst', 'Daisy', 'Jasmine', 'Menegilda', 'Primula', 'Angelica', 'Diamanda', 'Jemima', 'Mentha', 'Prisca', 'Arabella', 'Diamond', 'Jessamine', 'Mimosa', 'Regina', 'Asphodel', 'Dina', 'Lalia', 'Mirabella', 'Rhoda', 'Belba', 'Donnamira', 'Laura', 'Miranda', 'Robinia', 'Belinda', 'Dora', 'Lavinia', 'Myrtle', 'Rosa', 'Bellisima', 'Duenna', 'Lily', 'Nina', 'Rosamunda', 'Bell', 'Eglantine', 'Linda', 'Nora', 'Rose', 'Belladonna', 'Elanor', 'Lobelia', 'Pamphila', 'Rowan', 'Bertha', 'Esmeralda', 'Malva', 'Pandora', 'Ruby', 'Berylla', 'Estella', 'Marigold', 'Pansy', 'Salvia', 'Camelia', 'Fatima', 'Mantissa', 'Pearl', 'Savanna', 'Cara', 'Gerda', 'Matilda', 'Peony', 'Selina', 'Caramella', 'Gilly', 'Maxima', 'Pervinca', 'Semolina', 'Adelbert', 'Conrad', 'Gringamor', 'Isumbras', 'Polo', 'Vigo', 'Adelgrim', 'Cosimo', 'Grossman', 'Jago', 'Ponto', 'Wilcome', 'Adelard', 'Cotman', 'Gruffo', 'Jo', 'Porro', 'Wilibald', 'Alaric', 'Cottar', 'Guido', 'Jolly', 'Posco', 'Wilimar', 'Alberic', 'Gundabald', 'Largo', 'Reginard', 'Will', 'Andwise', 'Dinodas', 'Gundahar', 'Longo', 'Robin', 'Wiseman', 'Ansegar', 'Doderic', 'Gundobad', 'Lotho', 'Robur', 'Arnor', 'Dodinas', 'Gundolpho', 'Magnus', 'Roderic', 'Athanaric', 'Drogo', 'Habaccuc', 'Marcho', 'Rollo', 'Balbo', 'Dudo', 'Haiduc', 'Marco', 'Rorimac', 'Bandobras', 'Elfstan', 'Hal', 'Marmadoc', 'Rudibert', 'Marmaduc', 'Berilac', 'Erling', 'Halfred', 'Marroc', 'Rudigar', 'Bilba', 'Everard', 'Hamfast', 'Meneaduc', 'Rudolph', 'Bilbo', 'Falco', 'Hamilcar', 'Meriadoc', 'Rufus', 'Bildad', 'Faramir', 'Harding', 'Merimac', 'Sadoc', 'Bingo', 'Faramond', 'Hending', 'Merimas', 'Sago', 'Bladud', 'Fastred', 'Heribald', 'Merry', 'Samlad', 'Blanco', 'Fastolph', 'Herugar', 'Milo', 'Samwise', 'Bucca', 'Ferdinand', 'Hildibrand', 'Minto', 'Sancho', 'Bob', 'Ferumbras', 'Hildigard', 'Moro', 'Saradas', 'Basso', 'Filibert', 'Hildifons', 'Mosco', 'Saradoc', 'Bodo', 'Flambard', 'Hildigrim', 'Mungo', 'Scudamor', 'Bosco', 'Folcard', 'Hob', 'Nob', 'Seredic', 'Bowman', 'Folco', 'Hobson', 'Nibs', 'Sigismond', 'Briffo', 'Fortinbras', 'Holfast', 'Nicol', 'Smeagol', 'Bruno', 'Fosco', 'Holman', 'Nick', 'Tango', 'Brutus', 'Fredegar', 'Hugo', 'Obo', 'Ted', 'Bungo', 'Frodo', 'Ilberic', 'Odo', 'Theobald', 'Caradas', 'Fulvus', 'Iago', 'Odovacar', 'Theodoric', 'Caradoc', 'Gerontius', 'Inigo', 'Olo', 'Tobias', 'Carambo', 'Goodwill', 'Iolo', 'Orgulas', 'Tobold', 'Carl', 'Gorhendad', 'Isembard', 'Orlando', 'Togo', 'Cedivar', 'Gorbadoc', 'Gorbaduc', 'Isembold', 'Otho', 'Tolman', 'Celedor', 'Gorbulas', 'Isengar', 'Paladin', 'Tomburan', 'Tomacca', 'Ceredic', 'Gormadoc', 'Isengrim', 'Peregrin', 'Uffo', 'Cerdic', 'Griffo', 'Isengrin', 'Pippin', 'Valdemar']\n"
     ]
    }
   ],
   "source": [
    "dwarves = open(\"Dwarf Names Training Data.txt\",\"r\")\n",
    "dwarf_names = []\n",
    "for dwarf in dwarves:\n",
    "    dwarf_stripped = dwarf.rstrip()\n",
    "    dwarf_names.append(dwarf_stripped)\n",
    "    \n",
    "print(dwarf_names)"
   ]
  },
  {
   "cell_type": "code",
   "execution_count": 18,
   "metadata": {},
   "outputs": [
    {
     "name": "stdout",
     "output_type": "stream",
     "text": [
      "26\n",
      "abcdefghijklmnopqrstuvwxyz\n"
     ]
    }
   ],
   "source": [
    "chars = string.ascii_lowercase\n",
    "chars_num = len(chars)\n",
    "print(chars_num)\n",
    "print(chars)"
   ]
  },
  {
   "cell_type": "code",
   "execution_count": 19,
   "metadata": {},
   "outputs": [
    {
     "name": "stdout",
     "output_type": "stream",
     "text": [
      "{'a': 0, 'b': 1, 'c': 2, 'd': 3, 'e': 4, 'f': 5, 'g': 6, 'h': 7, 'i': 8, 'j': 9, 'k': 10, 'l': 11, 'm': 12, 'n': 13, 'o': 14, 'p': 15, 'q': 16, 'r': 17, 's': 18, 't': 19, 'u': 20, 'v': 21, 'w': 22, 'x': 23, 'y': 24, 'z': 25}\n",
      "{'a': 0, 'b': 1, 'c': 2, 'd': 3, 'e': 4, 'f': 5, 'g': 6, 'h': 7, 'i': 8, 'j': 9, 'k': 10, 'l': 11, 'm': 12, 'n': 13, 'o': 14, 'p': 15, 'q': 16, 'r': 17, 's': 18, 't': 19, 'u': 20, 'v': 21, 'w': 22, 'x': 23, 'y': 24, 'z': 25}\n"
     ]
    }
   ],
   "source": [
    "max_length = 9\n",
    "dwarf_length = len(dwarf_names)\n",
    "char_to_id = {c:i for i, c in enumerate(chars)}\n",
    "id_to_char = {v:k for k, v in enumerate(chars)}\n",
    "print(char_to_id)\n",
    "print(id_to_char)"
   ]
  },
  {
   "cell_type": "code",
   "execution_count": 21,
   "metadata": {},
   "outputs": [
    {
     "name": "stdout",
     "output_type": "stream",
     "text": [
      "[[[0. 0. 0. ... 0. 0. 0.]\n",
      "  [0. 0. 0. ... 0. 0. 0.]\n",
      "  [0. 0. 0. ... 0. 0. 0.]\n",
      "  ...\n",
      "  [0. 0. 0. ... 0. 0. 0.]\n",
      "  [0. 0. 0. ... 0. 0. 0.]\n",
      "  [0. 0. 0. ... 0. 0. 0.]]\n",
      "\n",
      " [[0. 0. 0. ... 0. 0. 0.]\n",
      "  [0. 0. 0. ... 0. 0. 0.]\n",
      "  [0. 0. 0. ... 0. 0. 0.]\n",
      "  ...\n",
      "  [0. 0. 0. ... 0. 0. 0.]\n",
      "  [0. 0. 0. ... 0. 0. 0.]\n",
      "  [0. 0. 0. ... 0. 0. 0.]]\n",
      "\n",
      " [[0. 0. 0. ... 0. 0. 0.]\n",
      "  [0. 0. 0. ... 0. 0. 0.]\n",
      "  [0. 0. 0. ... 0. 0. 0.]\n",
      "  ...\n",
      "  [0. 0. 0. ... 0. 0. 0.]\n",
      "  [0. 0. 0. ... 0. 0. 0.]\n",
      "  [0. 0. 0. ... 0. 0. 0.]]\n",
      "\n",
      " ...\n",
      "\n",
      " [[0. 0. 0. ... 0. 0. 0.]\n",
      "  [0. 0. 0. ... 0. 0. 0.]\n",
      "  [0. 0. 0. ... 0. 0. 0.]\n",
      "  ...\n",
      "  [0. 0. 0. ... 0. 0. 0.]\n",
      "  [0. 0. 0. ... 0. 0. 0.]\n",
      "  [0. 0. 0. ... 0. 0. 0.]]\n",
      "\n",
      " [[0. 0. 0. ... 0. 0. 0.]\n",
      "  [0. 0. 0. ... 0. 0. 0.]\n",
      "  [0. 0. 0. ... 0. 0. 0.]\n",
      "  ...\n",
      "  [0. 0. 0. ... 0. 0. 0.]\n",
      "  [0. 0. 0. ... 0. 0. 0.]\n",
      "  [0. 0. 0. ... 0. 0. 0.]]\n",
      "\n",
      " [[0. 0. 0. ... 0. 0. 0.]\n",
      "  [0. 0. 0. ... 0. 0. 0.]\n",
      "  [0. 0. 0. ... 0. 0. 0.]\n",
      "  ...\n",
      "  [0. 0. 0. ... 0. 0. 0.]\n",
      "  [0. 0. 0. ... 0. 0. 0.]\n",
      "  [0. 0. 0. ... 0. 0. 0.]]]\n"
     ]
    }
   ],
   "source": [
    "X = np.zeros((dwarf_length,max_length,chars_num))\n",
    "Y = np.zeros((dwarf_length,max_length,chars_num))\n",
    "print(X)"
   ]
  },
  {
   "cell_type": "code",
   "execution_count": null,
   "metadata": {},
   "outputs": [],
   "source": []
  }
 ],
 "metadata": {
  "kernelspec": {
   "display_name": "Python 3",
   "language": "python",
   "name": "python3"
  },
  "language_info": {
   "codemirror_mode": {
    "name": "ipython",
    "version": 3
   },
   "file_extension": ".py",
   "mimetype": "text/x-python",
   "name": "python",
   "nbconvert_exporter": "python",
   "pygments_lexer": "ipython3",
   "version": "3.8.5"
  }
 },
 "nbformat": 4,
 "nbformat_minor": 4
}
